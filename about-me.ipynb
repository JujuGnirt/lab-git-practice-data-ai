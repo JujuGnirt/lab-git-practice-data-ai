{
 "cells": [
  {
   "cell_type": "markdown",
   "metadata": {},
   "source": [
    "## About Me Lab: AI Engineering, Data Analytics & Data Science\n",
    "\n",
    "In this notebook, you'll write a short introduction about yourself using Python!\n",
    "\n",
    "### Instructions:\n",
    "- Fill in the variables below with your details.\n",
    "- Run the cell to print your introduction.\n",
    "\n",
    "### What to Include:\n",
    "- Your name.\n",
    "- Why you're interested in AI Engineering, Data Analytics or Data Science.\n",
    "- A fun fact about yourself or a goal for this course.\n"
   ]
  },
  {
   "cell_type": "code",
   "execution_count": null,
   "metadata": {},
   "outputs": [
    {
     "name": "stdout",
     "output_type": "stream",
     "text": [
      "Hi! My name is Julie. I’m excited to learn because Data Analytics / Data Science help me to understand the why behind numbers / informations.. A fun fact about me is: I enjoy running, even though I get out of breath easily. My goal with this course is to learn and eventually work in the environmental or NGO sector..\n"
     ]
    }
   ],
   "source": [
    "# About Me\n",
    "# Please fill in the following details.\n",
    "\n",
    "name = \"Julie\"\n",
    "reason = \"Data Analytics / Data Science help me to understand the why behind numbers / informations.\"\n",
    "fun_fact = \"I enjoy running, even though I get out of breath easily. My goal with this course is to learn and eventually work in the environmental or NGO sector.\"\n",
    "\n",
    "print(f\"Hi! My name is {name}. I’m excited to learn because {reason}. A fun fact about me is: {fun_fact}.\")"
   ]
  },
  {
   "cell_type": "code",
   "execution_count": null,
   "metadata": {},
   "outputs": [],
   "source": []
  }
 ],
 "metadata": {
  "kernelspec": {
   "display_name": "Python 3 (ipykernel)",
   "language": "python",
   "name": "python3"
  },
  "language_info": {
   "codemirror_mode": {
    "name": "ipython",
    "version": 3
   },
   "file_extension": ".py",
   "mimetype": "text/x-python",
   "name": "python",
   "nbconvert_exporter": "python",
   "pygments_lexer": "ipython3",
   "version": "3.10.11"
  }
 },
 "nbformat": 4,
 "nbformat_minor": 4
}
